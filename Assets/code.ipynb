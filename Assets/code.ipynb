{
 "cells": [
  {
   "cell_type": "code",
   "execution_count": 19,
   "metadata": {
    "_cell_guid": "b1076dfc-b9ad-4769-8c92-a6c4dae69d19",
    "_uuid": "8f2839f25d086af736a60e9eeb907d3b93b6e0e5",
    "papermill": {
     "duration": 7.008959,
     "end_time": "2021-03-24T09:50:49.735216",
     "exception": false,
     "start_time": "2021-03-24T09:50:42.726257",
     "status": "completed"
    },
    "tags": []
   },
   "outputs": [],
   "source": [
    "import numpy as np\n",
    "import pandas as pd\n",
    "import tensorflow as tf\n",
    "import matplotlib.pyplot as plt\n",
    "from keras.layers import Conv2D, MaxPool2D, Flatten, Dense, Dropout, BatchNormalization\n",
    "from keras.models import Sequential,load_model\n",
    "import keras\n",
    "import os"
   ]
  },
  {
   "cell_type": "code",
   "execution_count": 20,
   "metadata": {
    "papermill": {
     "duration": 15.35962,
     "end_time": "2021-03-24T09:51:05.106541",
     "exception": false,
     "start_time": "2021-03-24T09:50:49.746921",
     "status": "completed"
    },
    "tags": []
   },
   "outputs": [],
   "source": [
    "train_images = pd.read_csv(\"C:\\\\Django\\\\Handwritten Digit Recognition\\\\handwrittendigitdata\\\\emnist-balanced-train.csv\",header=None)\n",
    "test_images = pd.read_csv(\"C:\\\\Django\\\\Handwritten Digit Recognition\\\\handwrittendigitdata\\\\emnist-balanced-test.csv\",header=None)\n",
    "map_images = pd.read_csv(\"C:\\\\Django\\\\Handwritten Digit Recognition\\\\handwrittendigitdata\\\\emnist-balanced-mapping.txt\",header=None) \n",
    "#The 1st row would be treated as header if not set header to none."
   ]
  },
  {
   "cell_type": "markdown",
   "metadata": {
    "papermill": {
     "duration": 0.010688,
     "end_time": "2021-03-24T09:51:05.128932",
     "exception": false,
     "start_time": "2021-03-24T09:51:05.118244",
     "status": "completed"
    },
    "tags": []
   },
   "source": [
    "## EMNIST-Balanced(Extended MNIST) Dataset CSV Structure :\n",
    "* Each row represents a single image of shape -> (1,784) There are a total of 784 columns.\n",
    "* The first column contains the labels for each image \n",
    "* **Example** : The 0th row in the above dataframe represents and image the pixel for this image starts from 1st column and the point (1,0) i.e 36 is the label for this image in the 0th column.\n",
    "* In the map_images.txt file 36 maps to 97 which is ASCII Value for \"a\".\n",
    "* 47 Labels in map_images represent digits(0->9),alphabets(A-Z & a,b,d,..t)."
   ]
  },
  {
   "cell_type": "code",
   "execution_count": 21,
   "metadata": {
    "_kg_hide-input": false,
    "papermill": {
     "duration": 0.060247,
     "end_time": "2021-03-24T09:51:05.200581",
     "exception": false,
     "start_time": "2021-03-24T09:51:05.140334",
     "status": "completed"
    },
    "tags": []
   },
   "outputs": [
    {
     "data": {
      "text/html": [
       "<div>\n",
       "<style scoped>\n",
       "    .dataframe tbody tr th:only-of-type {\n",
       "        vertical-align: middle;\n",
       "    }\n",
       "\n",
       "    .dataframe tbody tr th {\n",
       "        vertical-align: top;\n",
       "    }\n",
       "\n",
       "    .dataframe thead th {\n",
       "        text-align: right;\n",
       "    }\n",
       "</style>\n",
       "<table border=\"1\" class=\"dataframe\">\n",
       "  <thead>\n",
       "    <tr style=\"text-align: right;\">\n",
       "      <th></th>\n",
       "      <th>0</th>\n",
       "      <th>1</th>\n",
       "      <th>2</th>\n",
       "      <th>3</th>\n",
       "      <th>4</th>\n",
       "      <th>5</th>\n",
       "      <th>6</th>\n",
       "      <th>7</th>\n",
       "      <th>8</th>\n",
       "      <th>9</th>\n",
       "      <th>...</th>\n",
       "      <th>775</th>\n",
       "      <th>776</th>\n",
       "      <th>777</th>\n",
       "      <th>778</th>\n",
       "      <th>779</th>\n",
       "      <th>780</th>\n",
       "      <th>781</th>\n",
       "      <th>782</th>\n",
       "      <th>783</th>\n",
       "      <th>784</th>\n",
       "    </tr>\n",
       "  </thead>\n",
       "  <tbody>\n",
       "    <tr>\n",
       "      <th>0</th>\n",
       "      <td>45</td>\n",
       "      <td>0</td>\n",
       "      <td>0</td>\n",
       "      <td>0</td>\n",
       "      <td>0</td>\n",
       "      <td>0</td>\n",
       "      <td>0</td>\n",
       "      <td>0</td>\n",
       "      <td>0</td>\n",
       "      <td>0</td>\n",
       "      <td>...</td>\n",
       "      <td>0</td>\n",
       "      <td>0</td>\n",
       "      <td>0</td>\n",
       "      <td>0</td>\n",
       "      <td>0</td>\n",
       "      <td>0</td>\n",
       "      <td>0</td>\n",
       "      <td>0</td>\n",
       "      <td>0</td>\n",
       "      <td>0</td>\n",
       "    </tr>\n",
       "    <tr>\n",
       "      <th>1</th>\n",
       "      <td>36</td>\n",
       "      <td>0</td>\n",
       "      <td>0</td>\n",
       "      <td>0</td>\n",
       "      <td>0</td>\n",
       "      <td>0</td>\n",
       "      <td>0</td>\n",
       "      <td>0</td>\n",
       "      <td>0</td>\n",
       "      <td>0</td>\n",
       "      <td>...</td>\n",
       "      <td>0</td>\n",
       "      <td>0</td>\n",
       "      <td>0</td>\n",
       "      <td>0</td>\n",
       "      <td>0</td>\n",
       "      <td>0</td>\n",
       "      <td>0</td>\n",
       "      <td>0</td>\n",
       "      <td>0</td>\n",
       "      <td>0</td>\n",
       "    </tr>\n",
       "    <tr>\n",
       "      <th>2</th>\n",
       "      <td>43</td>\n",
       "      <td>0</td>\n",
       "      <td>0</td>\n",
       "      <td>0</td>\n",
       "      <td>0</td>\n",
       "      <td>0</td>\n",
       "      <td>0</td>\n",
       "      <td>0</td>\n",
       "      <td>0</td>\n",
       "      <td>0</td>\n",
       "      <td>...</td>\n",
       "      <td>0</td>\n",
       "      <td>0</td>\n",
       "      <td>0</td>\n",
       "      <td>0</td>\n",
       "      <td>0</td>\n",
       "      <td>0</td>\n",
       "      <td>0</td>\n",
       "      <td>0</td>\n",
       "      <td>0</td>\n",
       "      <td>0</td>\n",
       "    </tr>\n",
       "    <tr>\n",
       "      <th>3</th>\n",
       "      <td>15</td>\n",
       "      <td>0</td>\n",
       "      <td>0</td>\n",
       "      <td>0</td>\n",
       "      <td>0</td>\n",
       "      <td>0</td>\n",
       "      <td>0</td>\n",
       "      <td>0</td>\n",
       "      <td>0</td>\n",
       "      <td>0</td>\n",
       "      <td>...</td>\n",
       "      <td>0</td>\n",
       "      <td>0</td>\n",
       "      <td>0</td>\n",
       "      <td>0</td>\n",
       "      <td>0</td>\n",
       "      <td>0</td>\n",
       "      <td>0</td>\n",
       "      <td>0</td>\n",
       "      <td>0</td>\n",
       "      <td>0</td>\n",
       "    </tr>\n",
       "    <tr>\n",
       "      <th>4</th>\n",
       "      <td>4</td>\n",
       "      <td>0</td>\n",
       "      <td>0</td>\n",
       "      <td>0</td>\n",
       "      <td>0</td>\n",
       "      <td>0</td>\n",
       "      <td>0</td>\n",
       "      <td>0</td>\n",
       "      <td>0</td>\n",
       "      <td>0</td>\n",
       "      <td>...</td>\n",
       "      <td>0</td>\n",
       "      <td>0</td>\n",
       "      <td>0</td>\n",
       "      <td>0</td>\n",
       "      <td>0</td>\n",
       "      <td>0</td>\n",
       "      <td>0</td>\n",
       "      <td>0</td>\n",
       "      <td>0</td>\n",
       "      <td>0</td>\n",
       "    </tr>\n",
       "    <tr>\n",
       "      <th>...</th>\n",
       "      <td>...</td>\n",
       "      <td>...</td>\n",
       "      <td>...</td>\n",
       "      <td>...</td>\n",
       "      <td>...</td>\n",
       "      <td>...</td>\n",
       "      <td>...</td>\n",
       "      <td>...</td>\n",
       "      <td>...</td>\n",
       "      <td>...</td>\n",
       "      <td>...</td>\n",
       "      <td>...</td>\n",
       "      <td>...</td>\n",
       "      <td>...</td>\n",
       "      <td>...</td>\n",
       "      <td>...</td>\n",
       "      <td>...</td>\n",
       "      <td>...</td>\n",
       "      <td>...</td>\n",
       "      <td>...</td>\n",
       "      <td>...</td>\n",
       "    </tr>\n",
       "    <tr>\n",
       "      <th>112795</th>\n",
       "      <td>22</td>\n",
       "      <td>0</td>\n",
       "      <td>0</td>\n",
       "      <td>0</td>\n",
       "      <td>0</td>\n",
       "      <td>0</td>\n",
       "      <td>0</td>\n",
       "      <td>0</td>\n",
       "      <td>0</td>\n",
       "      <td>0</td>\n",
       "      <td>...</td>\n",
       "      <td>0</td>\n",
       "      <td>0</td>\n",
       "      <td>0</td>\n",
       "      <td>0</td>\n",
       "      <td>0</td>\n",
       "      <td>0</td>\n",
       "      <td>0</td>\n",
       "      <td>0</td>\n",
       "      <td>0</td>\n",
       "      <td>0</td>\n",
       "    </tr>\n",
       "    <tr>\n",
       "      <th>112796</th>\n",
       "      <td>17</td>\n",
       "      <td>0</td>\n",
       "      <td>0</td>\n",
       "      <td>0</td>\n",
       "      <td>0</td>\n",
       "      <td>0</td>\n",
       "      <td>0</td>\n",
       "      <td>0</td>\n",
       "      <td>0</td>\n",
       "      <td>0</td>\n",
       "      <td>...</td>\n",
       "      <td>0</td>\n",
       "      <td>0</td>\n",
       "      <td>0</td>\n",
       "      <td>0</td>\n",
       "      <td>0</td>\n",
       "      <td>0</td>\n",
       "      <td>0</td>\n",
       "      <td>0</td>\n",
       "      <td>0</td>\n",
       "      <td>0</td>\n",
       "    </tr>\n",
       "    <tr>\n",
       "      <th>112797</th>\n",
       "      <td>23</td>\n",
       "      <td>0</td>\n",
       "      <td>0</td>\n",
       "      <td>0</td>\n",
       "      <td>0</td>\n",
       "      <td>0</td>\n",
       "      <td>0</td>\n",
       "      <td>0</td>\n",
       "      <td>0</td>\n",
       "      <td>0</td>\n",
       "      <td>...</td>\n",
       "      <td>0</td>\n",
       "      <td>0</td>\n",
       "      <td>0</td>\n",
       "      <td>0</td>\n",
       "      <td>0</td>\n",
       "      <td>0</td>\n",
       "      <td>0</td>\n",
       "      <td>0</td>\n",
       "      <td>0</td>\n",
       "      <td>0</td>\n",
       "    </tr>\n",
       "    <tr>\n",
       "      <th>112798</th>\n",
       "      <td>31</td>\n",
       "      <td>0</td>\n",
       "      <td>0</td>\n",
       "      <td>0</td>\n",
       "      <td>0</td>\n",
       "      <td>0</td>\n",
       "      <td>0</td>\n",
       "      <td>0</td>\n",
       "      <td>0</td>\n",
       "      <td>0</td>\n",
       "      <td>...</td>\n",
       "      <td>0</td>\n",
       "      <td>0</td>\n",
       "      <td>0</td>\n",
       "      <td>0</td>\n",
       "      <td>0</td>\n",
       "      <td>0</td>\n",
       "      <td>0</td>\n",
       "      <td>0</td>\n",
       "      <td>0</td>\n",
       "      <td>0</td>\n",
       "    </tr>\n",
       "    <tr>\n",
       "      <th>112799</th>\n",
       "      <td>8</td>\n",
       "      <td>0</td>\n",
       "      <td>0</td>\n",
       "      <td>0</td>\n",
       "      <td>0</td>\n",
       "      <td>0</td>\n",
       "      <td>0</td>\n",
       "      <td>0</td>\n",
       "      <td>0</td>\n",
       "      <td>0</td>\n",
       "      <td>...</td>\n",
       "      <td>0</td>\n",
       "      <td>0</td>\n",
       "      <td>0</td>\n",
       "      <td>0</td>\n",
       "      <td>0</td>\n",
       "      <td>0</td>\n",
       "      <td>0</td>\n",
       "      <td>0</td>\n",
       "      <td>0</td>\n",
       "      <td>0</td>\n",
       "    </tr>\n",
       "  </tbody>\n",
       "</table>\n",
       "<p>112800 rows × 785 columns</p>\n",
       "</div>"
      ],
      "text/plain": [
       "        0    1    2    3    4    5    6    7    8    9    ...  775  776  777  \\\n",
       "0        45    0    0    0    0    0    0    0    0    0  ...    0    0    0   \n",
       "1        36    0    0    0    0    0    0    0    0    0  ...    0    0    0   \n",
       "2        43    0    0    0    0    0    0    0    0    0  ...    0    0    0   \n",
       "3        15    0    0    0    0    0    0    0    0    0  ...    0    0    0   \n",
       "4         4    0    0    0    0    0    0    0    0    0  ...    0    0    0   \n",
       "...     ...  ...  ...  ...  ...  ...  ...  ...  ...  ...  ...  ...  ...  ...   \n",
       "112795   22    0    0    0    0    0    0    0    0    0  ...    0    0    0   \n",
       "112796   17    0    0    0    0    0    0    0    0    0  ...    0    0    0   \n",
       "112797   23    0    0    0    0    0    0    0    0    0  ...    0    0    0   \n",
       "112798   31    0    0    0    0    0    0    0    0    0  ...    0    0    0   \n",
       "112799    8    0    0    0    0    0    0    0    0    0  ...    0    0    0   \n",
       "\n",
       "        778  779  780  781  782  783  784  \n",
       "0         0    0    0    0    0    0    0  \n",
       "1         0    0    0    0    0    0    0  \n",
       "2         0    0    0    0    0    0    0  \n",
       "3         0    0    0    0    0    0    0  \n",
       "4         0    0    0    0    0    0    0  \n",
       "...     ...  ...  ...  ...  ...  ...  ...  \n",
       "112795    0    0    0    0    0    0    0  \n",
       "112796    0    0    0    0    0    0    0  \n",
       "112797    0    0    0    0    0    0    0  \n",
       "112798    0    0    0    0    0    0    0  \n",
       "112799    0    0    0    0    0    0    0  \n",
       "\n",
       "[112800 rows x 785 columns]"
      ]
     },
     "execution_count": 21,
     "metadata": {},
     "output_type": "execute_result"
    }
   ],
   "source": [
    "train_images"
   ]
  },
  {
   "cell_type": "code",
   "execution_count": 22,
   "metadata": {
    "papermill": {
     "duration": 0.21179,
     "end_time": "2021-03-24T09:51:05.425020",
     "exception": false,
     "start_time": "2021-03-24T09:51:05.213230",
     "status": "completed"
    },
    "tags": []
   },
   "outputs": [
    {
     "name": "stdout",
     "output_type": "stream",
     "text": [
      "a\n"
     ]
    },
    {
     "data": {
      "image/png": "[encoded data removed]",
      "text/plain": [
       "<Figure size 640x480 with 1 Axes>"
      ]
     },
     "metadata": {},
     "output_type": "display_data"
    }
   ],
   "source": [
    "plt.imshow(np.rot90(np.fliplr(train_images.iloc[1,1:].values.reshape(28,28)))) ## We'll learn about this later\n",
    "print(chr(97)) # 36 in labels column maps to 36 --> 97 in map_images "
   ]
  },
  {
   "cell_type": "markdown",
   "metadata": {
    "papermill": {
     "duration": 0.012718,
     "end_time": "2021-03-24T09:51:05.450856",
     "exception": false,
     "start_time": "2021-03-24T09:51:05.438138",
     "status": "completed"
    },
    "tags": []
   },
   "source": [
    "## **Data Preprocessing**"
   ]
  },
  {
   "cell_type": "code",
   "execution_count": 23,
   "metadata": {
    "papermill": {
     "duration": 0.183479,
     "end_time": "2021-03-24T09:51:05.647151",
     "exception": false,
     "start_time": "2021-03-24T09:51:05.463672",
     "status": "completed"
    },
    "tags": []
   },
   "outputs": [
    {
     "data": {
      "text/plain": [
       "<matplotlib.image.AxesImage at 0x267f70a2cb0>"
      ]
     },
     "execution_count": 23,
     "metadata": {},
     "output_type": "execute_result"
    },
    {
     "data": {
      "image/png": "[encoded data removed]",
      "text/plain": [
       "<Figure size 640x480 with 1 Axes>"
      ]
     },
     "metadata": {},
     "output_type": "display_data"
    }
   ],
   "source": [
    "# Seperating labels from features in training and test data.\n",
    "train_x = train_images.iloc[:,1:]  \n",
    "train_y = train_images.iloc[:,0]  \n",
    "train_x = train_x.values\n",
    "\n",
    "test_x = test_images.iloc[:,1:]\n",
    "test_y = test_images.iloc[:,0]\n",
    "test_x = test_x.values\n",
    "\n",
    "# ascii_map just for the convenince, i've removed the first column in map_images.\n",
    "ascii_map = []\n",
    "for i in map_images.values:\n",
    "    ascii_map.append(i[0].split()[1])\n",
    "\n",
    "# Uncomment the below line to know about the labels present in our dataset\n",
    "# for i in ascii_map: \n",
    "#     print(chr(int(i)))\n",
    "plt.imshow(np.rot90(np.fliplr(train_x[1].reshape(28,28))))"
   ]
  },
  {
   "cell_type": "code",
   "execution_count": 24,
   "metadata": {
    "papermill": {
     "duration": 0.023158,
     "end_time": "2021-03-24T09:51:05.684769",
     "exception": false,
     "start_time": "2021-03-24T09:51:05.661611",
     "status": "completed"
    },
    "tags": []
   },
   "outputs": [],
   "source": [
    "# The images in train_images are not in a proper orientation,hence to make them appropriate for training & testing data.\n",
    "\n",
    "def rot_flip(image):\n",
    "    image = image.reshape([28, 28])\n",
    "    image = np.fliplr(image)\n",
    "    image = np.rot90(image)\n",
    "    return image"
   ]
  },
  {
   "cell_type": "code",
   "execution_count": 25,
   "metadata": {
    "papermill": {
     "duration": 5.897764,
     "end_time": "2021-03-24T09:51:11.597013",
     "exception": false,
     "start_time": "2021-03-24T09:51:05.699249",
     "status": "completed"
    },
    "tags": []
   },
   "outputs": [
    {
     "data": {
      "text/plain": [
       "(112800, 28, 28)"
      ]
     },
     "execution_count": 25,
     "metadata": {},
     "output_type": "execute_result"
    },
    {
     "data": {
      "image/png": "[encoded data removed]",
      "text/plain": [
       "<Figure size 640x480 with 1 Axes>"
      ]
     },
     "metadata": {},
     "output_type": "display_data"
    }
   ],
   "source": [
    "train_x = np.apply_along_axis(rot_flip,1,train_x)\n",
    "test_x = np.apply_along_axis(rot_flip,1,test_x)\n",
    "plt.imshow(train_x[2])\n",
    "train_x.shape"
   ]
  },
  {
   "cell_type": "code",
   "execution_count": 26,
   "metadata": {
    "papermill": {
     "duration": 0.418394,
     "end_time": "2021-03-24T09:51:12.032075",
     "exception": false,
     "start_time": "2021-03-24T09:51:11.613681",
     "status": "completed"
    },
    "tags": []
   },
   "outputs": [],
   "source": [
    "train_x = train_x.astype('float32')\n",
    "train_x = train_x/255.0\n",
    "\n",
    "test_x = test_x.astype('float32')\n",
    "test_x = test_x/255.0\n",
    "\n",
    "train_x = train_x.reshape(-1, 28,28, 1)   #Equivalent to (112800,28,28,1)\n",
    "test_x = test_x.reshape(-1, 28,28, 1)   #Equivalent to (18800,28,28,1)"
   ]
  },
  {
   "cell_type": "code",
   "execution_count": 27,
   "metadata": {
    "papermill": {
     "duration": 3.444212,
     "end_time": "2021-03-24T09:51:15.493815",
     "exception": false,
     "start_time": "2021-03-24T09:51:12.049603",
     "status": "completed"
    },
    "tags": []
   },
   "outputs": [],
   "source": [
    "model = Sequential()\n",
    "model.add(Conv2D(32,(3,3),input_shape = (28,28,1),activation = 'relu'))\n",
    "model.add(Conv2D(64,(3,3),activation = 'relu'))\n",
    "model.add(MaxPool2D(2,2))\n",
    "model.add(Dropout(0.25))\n",
    "model.add(Flatten())\n",
    "model.add(Dense(128,activation='relu'))\n",
    "model.add(Dropout(0.5))\n",
    "model.add(Dense(47,activation='softmax'))"
   ]
  },
  {
   "cell_type": "code",
   "execution_count": 28,
   "metadata": {
    "papermill": {
     "duration": 0.043254,
     "end_time": "2021-03-24T09:51:15.553655",
     "exception": false,
     "start_time": "2021-03-24T09:51:15.510401",
     "status": "completed"
    },
    "tags": []
   },
   "outputs": [
    {
     "name": "stdout",
     "output_type": "stream",
     "text": [
      "Model: \"sequential_1\"\n",
      "_________________________________________________________________\n",
      " Layer (type)                Output Shape              Param #   \n",
      "=================================================================\n",
      " conv2d_2 (Conv2D)           (None, 26, 26, 32)        320       \n",
      "                                                                 \n",
      " conv2d_3 (Conv2D)           (None, 24, 24, 64)        18496     \n",
      "                                                                 \n",
      " max_pooling2d_1 (MaxPooling  (None, 12, 12, 64)       0         \n",
      " 2D)                                                             \n",
      "                                                                 \n",
      " dropout_2 (Dropout)         (None, 12, 12, 64)        0         \n",
      "                                                                 \n",
      " flatten_1 (Flatten)         (None, 9216)              0         \n",
      "                                                                 \n",
      " dense_2 (Dense)             (None, 128)               1179776   \n",
      "                                                                 \n",
      " dropout_3 (Dropout)         (None, 128)               0         \n",
      "                                                                 \n",
      " dense_3 (Dense)             (None, 47)                6063      \n",
      "                                                                 \n",
      "=================================================================\n",
      "Total params: 1,204,655\n",
      "Trainable params: 1,204,655\n",
      "Non-trainable params: 0\n",
      "_________________________________________________________________\n"
     ]
    }
   ],
   "source": [
    "model.compile(optimizer = 'adam',loss= \"sparse_categorical_crossentropy\", metrics=['accuracy'])\n",
    "model.summary()"
   ]
  },
  {
   "cell_type": "code",
   "execution_count": 29,
   "metadata": {
    "papermill": {
     "duration": 252.271405,
     "end_time": "2021-03-24T09:55:27.844279",
     "exception": false,
     "start_time": "2021-03-24T09:51:15.572874",
     "status": "completed"
    },
    "tags": []
   },
   "outputs": [
    {
     "name": "stdout",
     "output_type": "stream",
     "text": [
      "Epoch 1/20\n",
      "3525/3525 [==============================] - 20s 6ms/step - loss: 1.0661 - accuracy: 0.6749 - val_loss: 0.4831 - val_accuracy: 0.8387\n",
      "Epoch 2/20\n",
      "3525/3525 [==============================] - 19s 5ms/step - loss: 0.6615 - accuracy: 0.7824 - val_loss: 0.4260 - val_accuracy: 0.8546\n",
      "Epoch 3/20\n",
      "3525/3525 [==============================] - 19s 5ms/step - loss: 0.5763 - accuracy: 0.8084 - val_loss: 0.4026 - val_accuracy: 0.8618\n",
      "Epoch 4/20\n",
      "3525/3525 [==============================] - 19s 5ms/step - loss: 0.5284 - accuracy: 0.8208 - val_loss: 0.3890 - val_accuracy: 0.8678\n",
      "Epoch 5/20\n",
      "3525/3525 [==============================] - 19s 5ms/step - loss: 0.4942 - accuracy: 0.8313 - val_loss: 0.3833 - val_accuracy: 0.8687\n",
      "Epoch 6/20\n",
      "3525/3525 [==============================] - 19s 5ms/step - loss: 0.4679 - accuracy: 0.8387 - val_loss: 0.3747 - val_accuracy: 0.8727\n",
      "Epoch 7/20\n",
      "3525/3525 [==============================] - 19s 5ms/step - loss: 0.4467 - accuracy: 0.8456 - val_loss: 0.3774 - val_accuracy: 0.8683\n",
      "Epoch 8/20\n",
      "3525/3525 [==============================] - 19s 5ms/step - loss: 0.4296 - accuracy: 0.8487 - val_loss: 0.3645 - val_accuracy: 0.8743\n",
      "Epoch 9/20\n",
      "3525/3525 [==============================] - 19s 5ms/step - loss: 0.4176 - accuracy: 0.8518 - val_loss: 0.3662 - val_accuracy: 0.8733\n",
      "Epoch 10/20\n",
      "3525/3525 [==============================] - 19s 5ms/step - loss: 0.4005 - accuracy: 0.8565 - val_loss: 0.3641 - val_accuracy: 0.8753\n",
      "Epoch 11/20\n",
      "3525/3525 [==============================] - 19s 5ms/step - loss: 0.3928 - accuracy: 0.8591 - val_loss: 0.3681 - val_accuracy: 0.8757\n",
      "Epoch 12/20\n",
      "3525/3525 [==============================] - 19s 5ms/step - loss: 0.3836 - accuracy: 0.8624 - val_loss: 0.3791 - val_accuracy: 0.8778\n",
      "Epoch 13/20\n",
      "3525/3525 [==============================] - 19s 5ms/step - loss: 0.3745 - accuracy: 0.8653 - val_loss: 0.3737 - val_accuracy: 0.8759\n",
      "Epoch 14/20\n",
      "3525/3525 [==============================] - 19s 5ms/step - loss: 0.3655 - accuracy: 0.8671 - val_loss: 0.3733 - val_accuracy: 0.8801\n",
      "Epoch 15/20\n",
      "3525/3525 [==============================] - 19s 5ms/step - loss: 0.3582 - accuracy: 0.8700 - val_loss: 0.3675 - val_accuracy: 0.8779\n",
      "Epoch 16/20\n",
      "3525/3525 [==============================] - 19s 5ms/step - loss: 0.3531 - accuracy: 0.8707 - val_loss: 0.3808 - val_accuracy: 0.8799\n",
      "Epoch 17/20\n",
      "3525/3525 [==============================] - 20s 6ms/step - loss: 0.3456 - accuracy: 0.8737 - val_loss: 0.3842 - val_accuracy: 0.8764\n",
      "Epoch 18/20\n",
      "3525/3525 [==============================] - 19s 6ms/step - loss: 0.3383 - accuracy: 0.8766 - val_loss: 0.3918 - val_accuracy: 0.8791\n",
      "Epoch 19/20\n",
      "3525/3525 [==============================] - 19s 5ms/step - loss: 0.3347 - accuracy: 0.8759 - val_loss: 0.3752 - val_accuracy: 0.8802\n",
      "Epoch 20/20\n",
      "3525/3525 [==============================] - 19s 5ms/step - loss: 0.3307 - accuracy: 0.8777 - val_loss: 0.3873 - val_accuracy: 0.8824\n"
     ]
    }
   ],
   "source": [
    "history = model.fit(\n",
    "    train_x,\n",
    "    train_y,\n",
    "    validation_data = (test_x,test_y),\n",
    "    epochs = 20,\n",
    ")"
   ]
  },
  {
   "cell_type": "code",
   "execution_count": 30,
   "metadata": {
    "papermill": {
     "duration": 1.440234,
     "end_time": "2021-03-24T09:55:30.737008",
     "exception": false,
     "start_time": "2021-03-24T09:55:29.296774",
     "status": "completed"
    },
    "tags": []
   },
   "outputs": [],
   "source": [
    "ascii_map = []\n",
    "for i in map_images.values:\n",
    "    ascii_map.append(i[0].split()[1])\n",
    "\n",
    "\n",
    "# Adding character to associated ASCII Value\n",
    "character = []\n",
    "for i in ascii_map:\n",
    "    character.append(chr(int(i)))\n",
    "# plt.imshow(np.rot90(np.fliplr(train_x[1].reshape(28,28))))\n",
    "character = pd.DataFrame(character)"
   ]
  },
  {
   "cell_type": "code",
   "execution_count": 31,
   "metadata": {
    "papermill": {
     "duration": 2.063328,
     "end_time": "2021-03-24T09:55:34.239461",
     "exception": false,
     "start_time": "2021-03-24T09:55:32.176133",
     "status": "completed"
    },
    "tags": []
   },
   "outputs": [],
   "source": [
    "ascii_map = pd.DataFrame(ascii_map)\n",
    "ascii_map[\"Character\"] = character\n",
    "ascii_map.to_csv(\"mapping.csv\",index=False,header=True)"
   ]
  },
  {
   "cell_type": "code",
   "execution_count": 32,
   "metadata": {
    "papermill": {
     "duration": 2.074384,
     "end_time": "2021-03-24T09:55:37.856988",
     "exception": false,
     "start_time": "2021-03-24T09:55:35.782604",
     "status": "completed"
    },
    "tags": []
   },
   "outputs": [
    {
     "name": "stdout",
     "output_type": "stream",
     "text": [
      "(28, 28, 3)\n",
      "1/1 [==============================] - 0s 63ms/step\n",
      "Prediction :  3\n"
     ]
    },
    {
     "data": {
      "image/png": "[encoded data removed]",
      "text/plain": [
       "<Figure size 640x480 with 1 Axes>"
      ]
     },
     "metadata": {},
     "output_type": "display_data"
    }
   ],
   "source": [
    "from tensorflow.keras.utils import load_img, img_to_array\n",
    "import cv2\n",
    "\n",
    "img_sh_lst = []\n",
    "img = load_img(\"C:\\\\Users\\\\gouth\\\\OneDrive\\\\Desktop\\\\0_kKxxK1YXSyWMEBtS.png\",target_size=(28,28))\n",
    "x = img_to_array(img)\n",
    "print(x.shape)\n",
    "x = x/255.0\n",
    "\n",
    "gray_image = cv2.cvtColor(x, cv2.COLOR_BGR2GRAY)\n",
    "gray_image = np.expand_dims(gray_image, axis=-1)\n",
    "plt.imshow(gray_image)\n",
    "gray_image = np.expand_dims(gray_image, axis=0)\n",
    "cl = model.predict(gray_image)\n",
    "cl = list(cl[0])\n",
    "\n",
    "print(\"Prediction : \",ascii_map[\"Character\"][cl.index(max(cl))])\n"
   ]
  },
  {
   "cell_type": "code",
   "execution_count": 33,
   "metadata": {
    "papermill": {
     "duration": 1.442106,
     "end_time": "2021-03-24T09:55:40.729841",
     "exception": false,
     "start_time": "2021-03-24T09:55:39.287735",
     "status": "completed"
    },
    "tags": []
   },
   "outputs": [
    {
     "name": "stdout",
     "output_type": "stream",
     "text": [
      "2.10.1\n"
     ]
    }
   ],
   "source": [
    "print(tf.__version__)"
   ]
  },
  {
   "cell_type": "code",
   "execution_count": 34,
   "metadata": {},
   "outputs": [
    {
     "name": "stdout",
     "output_type": "stream",
     "text": [
      "Model saved to C:\\Django\\Handwritten Digit Recognition\\Assets\\Model\\handwrittenmodel.h5\n"
     ]
    }
   ],
   "source": [
    "# Directory where you want to save the model\n",
    "save_directory = \"C:\\\\Django\\\\Handwritten Digit Recognition\\\\Assets\\\\Model\"\n",
    "os.makedirs(save_directory, exist_ok=True)  # Create the directory if it doesn't exist\n",
    "\n",
    "# Full path to save the model\n",
    "model_path = os.path.join(save_directory, \"handwrittenmodel.h5\")\n",
    "\n",
    "# Save the model in .h5 format\n",
    "model.save(model_path)\n",
    "\n",
    "print(f\"Model saved to {model_path}\")"
   ]
  },
  {
   "cell_type": "code",
   "execution_count": null,
   "metadata": {},
   "outputs": [],
   "source": []
  }
 ],
 "metadata": {
  "kernelspec": {
   "display_name": "Python 3 (ipykernel)",
   "language": "python",
   "name": "python3"
  },
  "language_info": {
   "codemirror_mode": {
    "name": "ipython",
    "version": 3
   },
   "file_extension": ".py",
   "mimetype": "text/x-python",
   "name": "python",
   "nbconvert_exporter": "python",
   "pygments_lexer": "ipython3",
   "version": "3.10.15"
  },
  "papermill": {
   "default_parameters": {},
   "duration": 308.249472,
   "end_time": "2021-03-24T09:55:44.863652",
   "environment_variables": {},
   "exception": null,
   "input_path": "__notebook__.ipynb",
   "output_path": "__notebook__.ipynb",
   "parameters": {},
   "start_time": "2021-03-24T09:50:36.614180",
   "version": "2.2.2"
  }
 },
 "nbformat": 4,
 "nbformat_minor": 4
}
